{
 "cells": [
  {
   "cell_type": "code",
   "execution_count": 1,
   "metadata": {},
   "outputs": [
    {
     "name": "stdout",
     "output_type": "stream",
     "text": [
      "Twinkle, twinkle, little star, \n",
      "             How I wonder what you are! \n",
      "                   Up above the world so high,\n",
      "                   Like a diamond in the sky. \n",
      "   Twinkle, twinkle, little star, \n",
      "            How I wonder what you are\n"
     ]
    }
   ],
   "source": [
    "a = \"Twinkle, twinkle, little star, \"\n",
    "b = \"\\n             How I wonder what you are! \" \n",
    "c = \"\\n                   Up above the world so high,\"       \n",
    "d = \"\\n                   Like a diamond in the sky. \"\n",
    "e = \"\\n   Twinkle, twinkle, little star, \"\n",
    "f = \"\\n            How I wonder what you are\"\n",
    "print(a+b+c+d+e+f)"
   ]
  },
  {
   "cell_type": "code",
   "execution_count": 5,
   "metadata": {},
   "outputs": [
    {
     "data": {
      "text/plain": [
       "'3.7.4'"
      ]
     },
     "execution_count": 5,
     "metadata": {},
     "output_type": "execute_result"
    }
   ],
   "source": [
    "import platform\n",
    "platform.python_version()\n"
   ]
  },
  {
   "cell_type": "code",
   "execution_count": 7,
   "metadata": {},
   "outputs": [
    {
     "name": "stdout",
     "output_type": "stream",
     "text": [
      "Current date and time : \n",
      "2019-11-05 10:33:33\n"
     ]
    }
   ],
   "source": [
    "import datetime\n",
    "now = datetime.datetime.now()\n",
    "print (\"Current date and time : \")\n",
    "print (now.strftime(\"%Y-%m-%d %H:%M:%S\"))\n"
   ]
  },
  {
   "cell_type": "code",
   "execution_count": 8,
   "metadata": {},
   "outputs": [
    {
     "name": "stdout",
     "output_type": "stream",
     "text": [
      "Input the radius of the circle : 1\n",
      "The area of the circle with radius 1.0 is: 3.141592653589793\n"
     ]
    }
   ],
   "source": [
    "from math import pi\n",
    "r = float(input (\"Input the radius of the circle : \"))\n",
    "print (\"The area of the circle with radius \" + str(r) + \" is: \" + str(pi * r**2))\n"
   ]
  },
  {
   "cell_type": "code",
   "execution_count": 9,
   "metadata": {},
   "outputs": [
    {
     "name": "stdout",
     "output_type": "stream",
     "text": [
      "Input your First Name : shahzhob\n",
      "Input your Last Name : memon\n",
      "memon shahzhob\n"
     ]
    }
   ],
   "source": [
    "f = input(\"Input your First Name : \")\n",
    "l = input(\"Input your Last Name : \")\n",
    "print(l + \" \" + f )"
   ]
  },
  {
   "cell_type": "code",
   "execution_count": 13,
   "metadata": {},
   "outputs": [
    {
     "name": "stdout",
     "output_type": "stream",
     "text": [
      "enter num5\n",
      "enter num6\n",
      "11\n"
     ]
    }
   ],
   "source": [
    "val1 = int(input(\"enter num\"))\n",
    "val2 = int(input(\"enter num\"))\n",
    "val3 = val1 + val2\n",
    "print(val3)"
   ]
  },
  {
   "cell_type": "code",
   "execution_count": null,
   "metadata": {},
   "outputs": [],
   "source": []
  }
 ],
 "metadata": {
  "kernelspec": {
   "display_name": "Python 3",
   "language": "python",
   "name": "python3"
  },
  "language_info": {
   "codemirror_mode": {
    "name": "ipython",
    "version": 3
   },
   "file_extension": ".py",
   "mimetype": "text/x-python",
   "name": "python",
   "nbconvert_exporter": "python",
   "pygments_lexer": "ipython3",
   "version": "3.7.4"
  }
 },
 "nbformat": 4,
 "nbformat_minor": 2
}
